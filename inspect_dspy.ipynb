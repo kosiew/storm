{
 "cells": [
  {
   "cell_type": "code",
   "execution_count": 40,
   "id": "a8480e66-695f-4705-81bd-8cf96170fbdc",
   "metadata": {},
   "outputs": [],
   "source": [
    "import sys\n",
    "import dspy\n",
    "import re\n",
    "from dotenv import load_dotenv\n",
    "import os\n",
    "from lm import OpenAIModel\n",
    "from typing import Dict, List, Optional, Tuple, Union\n",
    "from storm_wiki.modules.storm_dataclass import DialogueTurn, StormInformation\n",
    "from utils import load_api_key\n",
    "sys.path.append(\"./src\")\n",
    "\n",
    "\n",
    "GPT_3_5_TURBO = \"gpt-3.5-turbo\"\n",
    "GPT_4O = \"gpt-4o\"\n",
    "\n",
    "dotenv_path = os.path.expanduser(\"~/.env\")\n",
    "load_dotenv(dotenv_path)\n",
    "\n",
    "def get_openai_kwargs():\n",
    "    load_api_key(toml_file_path=\"secrets.toml\")\n",
    "    openai_kwargs = {\n",
    "        \"api_key\": os.getenv(\"OPENAI_API_KEY\"),\n",
    "        \"api_provider\": os.getenv(\"OPENAI_API_TYPE\"),\n",
    "        \"temperature\": 1.0,\n",
    "        \"top_p\": 0.9,\n",
    "    }\n",
    "    if os.getenv(\"OPENAI_API_TYPE\") == \"azure\":\n",
    "        openai_kwargs[\"api_base\"] = os.getenv(\"AZURE_API_BASE\")\n",
    "        openai_kwargs[\"api_version\"] = os.getenv(\"AZURE_API_VERSION\")\n",
    "\n",
    "    return openai_kwargs\n",
    "\n",
    "def get_debater_engine():\n",
    "    return OpenAIModel(model=GPT_3_5_TURBO, max_tokens=500, **get_openai_kwargs())\n",
    "\n",
    "\n",
    "def get_topic_expert_engine():\n",
    "    return OpenAIModel(model=GPT_4O, max_tokens=500, **get_openai_kwargs())\n",
    "\n"
   ]
  },
  {
   "cell_type": "code",
   "execution_count": 2,
   "id": "7bb1fe5e-ffef-4668-b0f3-f4592a900ffb",
   "metadata": {},
   "outputs": [],
   "source": [
    "sys.path.append(\"./src\")"
   ]
  },
  {
   "cell_type": "markdown",
   "id": "0d52cf6d-6026-44ab-9099-99d7bb6d9402",
   "metadata": {},
   "source": [
    "## Goal learn about dspy.Model, dspy.Prediction..."
   ]
  },
  {
   "cell_type": "code",
   "execution_count": 5,
   "id": "c31e0ecf-3502-4479-9479-413cee47f7aa",
   "metadata": {},
   "outputs": [],
   "source": [
    "from rm import OpenAIBrowserSearch"
   ]
  },
  {
   "cell_type": "code",
   "execution_count": 9,
   "id": "a418be44-687a-4404-aba1-a5812478ef07",
   "metadata": {},
   "outputs": [],
   "source": [
    "b = OpenAIBrowserSearch()"
   ]
  },
  {
   "cell_type": "code",
   "execution_count": 10,
   "id": "90459a6b-c2ea-4025-9281-01832ccd433d",
   "metadata": {},
   "outputs": [],
   "source": [
    "class AskQuestionWithPersona(dspy.Signature):\n",
    "    \"\"\"You are an experienced debater. You are articulate and persuasive, always aiming to produce strong arguments with well-researched information.\n",
    "    Now, you are chatting with an expert to get more useful information to support your stance and to rebut arguments. Ask insightful questions to gather valuable evidence and data.\n",
    "    When you have no more questions to ask, say \"Thank you so much for your help!\" to end the conversation.\n",
    "    Please only ask one question at a time and don't repeat questions. Your questions should relate to rebutting the argument from the other party and to strengthen your  position on the topic you are debating.\n",
    "    If you are the opposer, ask questions to argue AGAINST the topic.\n",
    "    If you are the proposer, ask questions to argue FOR the topic.\n",
    "    \"\"\"\n",
    "\n",
    "    topic = dspy.InputField(prefix=\"Debate topic: \", format=str)\n",
    "    argument = dspy.InputField(prefix=\"Argument to rebut: \", format=str)\n",
    "    persona = dspy.InputField(prefix=\"Your role in this debate\", format=str)\n",
    "    conv = dspy.InputField(prefix=\"Conversation history:\\n\", format=str)\n",
    "    question = dspy.OutputField(format=str)\n"
   ]
  },
  {
   "cell_type": "code",
   "execution_count": 12,
   "id": "152fb643-c166-4be9-a678-9344d1e9a71e",
   "metadata": {},
   "outputs": [],
   "source": [
    "aq = dspy.ChainOfThought(AskQuestionWithPersona)"
   ]
  },
  {
   "cell_type": "code",
   "execution_count": 13,
   "id": "fe892e85-d988-4543-b6a2-beb95ae70e73",
   "metadata": {},
   "outputs": [
    {
     "data": {
      "text/plain": [
       "StringSignature(topic, argument, persona, conv -> rationale, question\n",
       "    instructions='You are an experienced debater. You are articulate and persuasive, always aiming to produce strong arguments with well-researched information.\\n    Now, you are chatting with an expert to get more useful information to support your stance and to rebut arguments. Ask insightful questions to gather valuable evidence and data.\\n    When you have no more questions to ask, say \"Thank you so much for your help!\" to end the conversation.\\n    Please only ask one question at a time and don\\'t repeat questions. Your questions should relate to rebutting the argument from the other party and to strengthen your  position on the topic you are debating.\\n    If you are the opposer, ask questions to argue AGAINST the topic.\\n    If you are the proposer, ask questions to argue FOR the topic.\\n    '\n",
       "    topic = Field(annotation=str required=True json_schema_extra={'prefix': 'Debate topic: ', 'format': <class 'str'>, '__dspy_field_type': 'input', 'desc': '${topic}'})\n",
       "    argument = Field(annotation=str required=True json_schema_extra={'prefix': 'Argument to rebut: ', 'format': <class 'str'>, '__dspy_field_type': 'input', 'desc': '${argument}'})\n",
       "    persona = Field(annotation=str required=True json_schema_extra={'prefix': 'Your role in this debate', 'format': <class 'str'>, '__dspy_field_type': 'input', 'desc': '${persona}'})\n",
       "    conv = Field(annotation=str required=True json_schema_extra={'prefix': 'Conversation history:\\n', 'format': <class 'str'>, '__dspy_field_type': 'input', 'desc': '${conv}'})\n",
       "    rationale = Field(annotation=str required=True json_schema_extra={'prefix': \"Reasoning: Let's think step by step in order to\", 'desc': '${produce the question}. We ...', '__dspy_field_type': 'output'})\n",
       "    question = Field(annotation=str required=True json_schema_extra={'format': <class 'str'>, '__dspy_field_type': 'output', 'prefix': 'Question:', 'desc': '${question}'})\n",
       ")"
      ]
     },
     "execution_count": 13,
     "metadata": {},
     "output_type": "execute_result"
    }
   ],
   "source": [
    "aq.extended_signature"
   ]
  },
  {
   "cell_type": "code",
   "execution_count": 30,
   "id": "014ed273-8663-4983-9991-d76890677f2b",
   "metadata": {},
   "outputs": [],
   "source": [
    "class QuestionToQuery(dspy.Signature):\n",
    "    \"\"\"You want to answer the question using Google search. What do you type in the search box?\n",
    "    Write the queries you will use in the following format:\n",
    "    - query 1\n",
    "    - query 2\n",
    "    ...\n",
    "    - query n\"\"\"\n",
    "\n",
    "    topic = dspy.InputField(prefix=\"Topic you are discussing about: \", format=str)\n",
    "    question = dspy.InputField(prefix=\"Question you want to answer: \", format=str)\n",
    "    queries = dspy.OutputField(format=str)\n",
    "\n",
    "\n",
    "class DebateWriter(dspy.Module):\n",
    "    \"\"\"Perspective-guided question asking in conversational setup.\n",
    "\n",
    "    The asked question will be used to start a next round of information seeking.\"\"\"\n",
    "\n",
    "    def __init__(self, engine: Union[dspy.dsp.LM, dspy.dsp.HFModel]):\n",
    "        super().__init__()\n",
    "        self.ask_question_with_persona = dspy.ChainOfThought(AskQuestionWithPersona)\n",
    "        self.engine = engine\n",
    "\n",
    "    def forward(\n",
    "        self,\n",
    "        topic: str,\n",
    "        persona: str,\n",
    "        argument: str,\n",
    "        dialogue_turns: List[DialogueTurn],\n",
    "    ):\n",
    "        conv = []\n",
    "        for turn in dialogue_turns[:-4]:\n",
    "            conv.append(\n",
    "                f\"{persona}: {turn.user_utterance}\\nExpert: Omit the answer here due to space limit.\"\n",
    "            )\n",
    "        for turn in dialogue_turns[-4:]:\n",
    "            conv.append(\n",
    "                f\"{persona}: {turn.user_utterance}\\nExpert: {ArticleTextProcessing.remove_citations(turn.agent_utterance)}\"\n",
    "            )\n",
    "        conv = \"\\n\".join(conv)\n",
    "        conv = conv.strip() or \"N/A\"\n",
    "        conv = ArticleTextProcessing.limit_word_count_preserve_newline(conv, 2500)\n",
    "\n",
    "        with dspy.settings.context(lm=self.engine):\n",
    "            question = self.ask_question_with_persona(\n",
    "                topic=topic, persona=persona, conv=conv, argument=argument\n",
    "            ).question\n",
    "        print(f\"==> {persona}_writer: {question=}\")\n",
    "        return dspy.Prediction(question=question)\n"
   ]
  },
  {
   "cell_type": "code",
   "execution_count": 15,
   "id": "5f01806f-7a64-457b-b2fc-8961b27353dd",
   "metadata": {},
   "outputs": [],
   "source": [
    "generate_queries = dspy.Predict(QuestionToQuery)"
   ]
  },
  {
   "cell_type": "code",
   "execution_count": 33,
   "id": "b30b25cc-f338-445d-bf80-72c2e2e98387",
   "metadata": {},
   "outputs": [],
   "source": [
    "debate_writer = DebateWriter(engine=get_debater_engine())"
   ]
  },
  {
   "cell_type": "code",
   "execution_count": null,
   "id": "97224ebe-0204-4837-8137-8dc1ed78ea06",
   "metadata": {},
   "outputs": [],
   "source": []
  },
  {
   "cell_type": "code",
   "execution_count": null,
   "id": "f52ee965-ea07-4a29-b243-e158d0f8ed9e",
   "metadata": {},
   "outputs": [],
   "source": []
  },
  {
   "cell_type": "code",
   "execution_count": 35,
   "id": "8be57134-0955-4c70-8a92-ca334b142fa4",
   "metadata": {},
   "outputs": [],
   "source": [
    "class GenPersona(dspy.Signature):\n",
    "    \"\"\"You need to select a group of participants who will work together for a brainstorming session.\n",
    "    Each of them represents a different perspective, role, or affiliation related to this topic. \n",
    "    For each participant, add a description of what they will focus on.\n",
    "    Give your answer in the following format: 1. short summary of participant1: description\\n2. short summary of participant2: description\\n...\n",
    "    \"\"\"\n",
    "\n",
    "    topic = dspy.InputField(prefix=\"Topic of interest:\", format=str)\n",
    "    personas = dspy.OutputField(format=str)"
   ]
  },
  {
   "cell_type": "code",
   "execution_count": 41,
   "id": "f5ebc772-5466-4c98-9637-86e0cd145f76",
   "metadata": {},
   "outputs": [],
   "source": [
    "class CreateBrainstormPersona(dspy.Module):\n",
    "    \"\"\"Discover different perspectives of researching the topic.\"\"\"\n",
    "\n",
    "    def __init__(self, engine: Union[dspy.dsp.LM, dspy.dsp.HFModel]):\n",
    "        super().__init__()\n",
    "        self.gen_persona = dspy.ChainOfThought(GenPersona)\n",
    "        self.engine = engine\n",
    "\n",
    "    def forward(self, topic: str, draft=None):\n",
    "        with dspy.settings.context(lm=self.engine):\n",
    "            \n",
    "            gen_persona_output = self.gen_persona(\n",
    "                topic=topic\n",
    "            ).personas\n",
    "\n",
    "        personas = []\n",
    "        for s in gen_persona_output.split(\"\\n\"):\n",
    "            match = re.search(r\"\\d+\\.\\s*(.*)\", s)\n",
    "            if match:\n",
    "                personas.append(match.group(1))\n",
    "\n",
    "        print(f\"==> Generated personas for the topic '{topic}': {personas=}\")\n",
    "        sorted_personas = personas\n",
    "\n",
    "        return dspy.Prediction(\n",
    "            personas=personas,\n",
    "            raw_personas_output=sorted_personas\n",
    "        )"
   ]
  },
  {
   "cell_type": "code",
   "execution_count": 42,
   "id": "832bfebb-92a4-4a3c-8899-8747746ac15f",
   "metadata": {},
   "outputs": [],
   "source": [
    "create_personas = CreateBrainstormPersona(get_topic_expert_engine())"
   ]
  },
  {
   "cell_type": "code",
   "execution_count": 44,
   "id": "afa85214-5872-479a-8c36-0778e9a20437",
   "metadata": {},
   "outputs": [],
   "source": [
    "topic = 'How to accelerate transition to clean energy'"
   ]
  },
  {
   "cell_type": "code",
   "execution_count": 45,
   "id": "e54b8b9c-8f32-4652-83bb-d7c0fcb1801c",
   "metadata": {},
   "outputs": [
    {
     "name": "stdout",
     "output_type": "stream",
     "text": [
      "==> Generated personas for the topic 'How to accelerate transition to clean energy': personas=['**Environmental Scientist**: Focus on the scientific and environmental benefits of clean energy, including the reduction of greenhouse gas emissions and the positive impact on ecosystems.', '**Renewable Energy Engineer**: Discuss the technical feasibility, innovations, and challenges of deploying clean energy technologies such as solar, wind, and hydro power.', '**Policy Maker**: Address the regulatory and legislative measures needed to promote clean energy, including subsidies, tax incentives, and international agreements.', '**Economist**: Analyze the economic impact of transitioning to clean energy, considering job creation, costs, and the long-term economic benefits of sustainable practices.', '**Energy Company Executive**: Provide insights from the industry perspective, focusing on the business model transformations, investment in clean energy, and partnerships needed.', '**Community Activist**: Represent the grassroots level, discussing community engagement, public awareness, and the social acceptance of clean energy projects.', '**Financial Analyst**: Focus on the investment landscape, risk assessment, and financing models that can support the transition to clean energy.', '**Urban Planner**: Explore how cities can integrate clean energy into urban infrastructure, including smart grids, public transportation, and sustainable building practices.', '**Technologist**: Look at the role of emerging technologies such as AI, IoT, and blockchain in optimizing and managing clean energy resources.', '**Educator**: Emphasize the importance of education and workforce development to equip the next generation with the skills needed for a clean energy future.']\n"
     ]
    }
   ],
   "source": [
    "personas = create_personas(topic)"
   ]
  },
  {
   "cell_type": "code",
   "execution_count": null,
   "id": "809a0cef-22c5-48d4-b63b-25aa9200bd0d",
   "metadata": {},
   "outputs": [],
   "source": []
  }
 ],
 "metadata": {
  "kernelspec": {
   "display_name": "Python 3 (ipykernel)",
   "language": "python",
   "name": "python3"
  },
  "language_info": {
   "codemirror_mode": {
    "name": "ipython",
    "version": 3
   },
   "file_extension": ".py",
   "mimetype": "text/x-python",
   "name": "python",
   "nbconvert_exporter": "python",
   "pygments_lexer": "ipython3",
   "version": "3.11.4"
  }
 },
 "nbformat": 4,
 "nbformat_minor": 5
}
