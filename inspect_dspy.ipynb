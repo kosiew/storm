{
 "cells": [
  {
   "cell_type": "code",
   "execution_count": 8,
   "id": "a8480e66-695f-4705-81bd-8cf96170fbdc",
   "metadata": {},
   "outputs": [
    {
     "data": {
      "text/plain": [
       "True"
      ]
     },
     "execution_count": 8,
     "metadata": {},
     "output_type": "execute_result"
    }
   ],
   "source": [
    "import sys\n",
    "import dspy\n",
    "from dotenv import load_dotenv\n",
    "import os\n",
    "\n",
    "dotenv_path = os.path.expanduser(\"~/.env\")\n",
    "load_dotenv(dotenv_path)"
   ]
  },
  {
   "cell_type": "code",
   "execution_count": 2,
   "id": "7bb1fe5e-ffef-4668-b0f3-f4592a900ffb",
   "metadata": {},
   "outputs": [],
   "source": [
    "sys.path.append(\"./src\")"
   ]
  },
  {
   "cell_type": "markdown",
   "id": "0d52cf6d-6026-44ab-9099-99d7bb6d9402",
   "metadata": {},
   "source": [
    "## Goal learn about dspy.Model, dspy.Prediction..."
   ]
  },
  {
   "cell_type": "code",
   "execution_count": 5,
   "id": "c31e0ecf-3502-4479-9479-413cee47f7aa",
   "metadata": {},
   "outputs": [],
   "source": [
    "from rm import OpenAIBrowserSearch"
   ]
  },
  {
   "cell_type": "code",
   "execution_count": 9,
   "id": "a418be44-687a-4404-aba1-a5812478ef07",
   "metadata": {},
   "outputs": [],
   "source": [
    "b = OpenAIBrowserSearch()"
   ]
  },
  {
   "cell_type": "code",
   "execution_count": null,
   "id": "90459a6b-c2ea-4025-9281-01832ccd433d",
   "metadata": {},
   "outputs": [],
   "source": []
  }
 ],
 "metadata": {
  "kernelspec": {
   "display_name": "Python 3 (ipykernel)",
   "language": "python",
   "name": "python3"
  },
  "language_info": {
   "codemirror_mode": {
    "name": "ipython",
    "version": 3
   },
   "file_extension": ".py",
   "mimetype": "text/x-python",
   "name": "python",
   "nbconvert_exporter": "python",
   "pygments_lexer": "ipython3",
   "version": "3.11.4"
  }
 },
 "nbformat": 4,
 "nbformat_minor": 5
}
