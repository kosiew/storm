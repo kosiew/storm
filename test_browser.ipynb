{
 "cells": [
  {
   "cell_type": "code",
   "execution_count": 4,
   "id": "de7c89d2-4938-4786-bd02-add33bb3525a",
   "metadata": {},
   "outputs": [],
   "source": [
    "import os\n",
    "import json\n",
    "from openai import OpenAI\n",
    "from duckduckgo_search import DDGS\n",
    "\n",
    "ddgs = DDGS()\n",
    "\n",
    "def search(query):\n",
    "    results = ddgs.text(\n",
    "        keywords=query,\n",
    "        region='sg-en',\n",
    "        max_results=10)\n",
    "    return results\n",
    "\n",
    "class Chat:\n",
    "    def __init__(self, openai_api_key=None, model=\"gpt-4o\"):\n",
    "        \"\"\"\n",
    "        Initializes the Chat class with API key and model.\n",
    "        \"\"\"\n",
    "        api_key = None\n",
    "        if not openai_api_key and not os.environ.get(\"OPENAI_API_KEY\"):\n",
    "            raise RuntimeError(\n",
    "                \"You must supply openai_api_key or set environment variable OPENAI_API_KEY\"\n",
    "            )\n",
    "        elif openai_api_key:\n",
    "            api_key = openai_api_key\n",
    "        else:\n",
    "            api_key = os.environ[\"OPENAI_API_KEY\"]\n",
    "\n",
    "        self.client = OpenAI(api_key=api_key)\n",
    "        self.model = model\n",
    "        self.chat_history = [\n",
    "            {\n",
    "                \"role\": \"system\",\n",
    "                \"content\": \"You are a helpful assistant designed to output JSON.\",\n",
    "            }\n",
    "        ]\n",
    "\n",
    "    def append_response_to_history(self, response):\n",
    "        message = response.choices[0].message\n",
    "\n",
    "        self.chat_history.append({\"role\": message.role, \"content\": message.content})\n",
    "\n",
    "    def get_reply(self, response):\n",
    "        content = response.choices[0].message.content\n",
    "        return content\n",
    "\n",
    "    def print_reply(self, response):\n",
    "        print(self.get_reply(response))\n",
    "\n",
    "    def ask(self, query, model=\"gpt-4o\"):\n",
    "        self.chat_history.append({\"role\": \"user\", \"content\": query})\n",
    "\n",
    "        response = self.client.chat.completions.create(\n",
    "            model=model,\n",
    "            response_format={\"type\": \"json_object\"},\n",
    "            messages=self.chat_history,\n",
    "        )\n",
    "\n",
    "        self.append_response_to_history(response)\n",
    "\n",
    "        # self.print_reply(response)\n",
    "        print(response.usage.total_tokens)\n",
    "        return self.get_reply(response)\n",
    "\n"
   ]
  },
  {
   "cell_type": "code",
   "execution_count": 2,
   "id": "5dc7edd7-ed15-4869-a540-0ed1720f3751",
   "metadata": {},
   "outputs": [],
   "source": [
    "c = Chat()"
   ]
  },
  {
   "cell_type": "code",
   "execution_count": null,
   "id": "bf62f4f6-0fc5-4c1d-97c8-83f493f3f614",
   "metadata": {},
   "outputs": [],
   "source": [
    "DDGS().text("
   ]
  },
  {
   "cell_type": "code",
   "execution_count": 7,
   "id": "e0f503fb-c10b-4382-83f2-0e070a136ec8",
   "metadata": {},
   "outputs": [],
   "source": [
    "query = 'who is the Democrat presidential candidate in 2024'\n",
    "\n",
    "results = search(query)"
   ]
  },
  {
   "cell_type": "code",
   "execution_count": 8,
   "id": "0ac9975c-249c-408d-a49d-643d5014eaea",
   "metadata": {},
   "outputs": [
    {
     "data": {
      "text/plain": [
       "[{'title': 'Who Are the 2024 Presidential Election Candidates ... - The New York Times',\n",
       "  'href': 'https://www.nytimes.com/interactive/2023/us/politics/presidential-candidates-2024.html',\n",
       "  'body': 'Attention now turns to Ms. Harris to select a running mate: Here are some possible Democratic vice presidential candidates. Last week, Mr. Trump announced that Senator JD Vance of Ohio would...'},\n",
       " {'title': 'Who are the Democrats running for president in 2024? | Reuters',\n",
       "  'href': 'https://www.reuters.com/world/us/democratic-candidates-running-us-president-2024-2023-09-18/',\n",
       "  'body': \"With former President Donald Trump the frontrunner in the Republican Party's nominating race, Biden's strong position in the Democratic primary sets up a likely repeat of the 2020 presidential...\"},\n",
       " {'title': 'Who could replace Joe Biden as the 2024 Democratic nominee?',\n",
       "  'href': 'https://www.cbsnews.com/news/who-could-replace-joe-biden/',\n",
       "  'body': 'July 21, 2024 / 2:55 PM EDT / CBS News. Washington — The top of the Democratic ticket is up for grabs after President Biden rocked the political sphere by announcing Sunday he is dropping out of ...'},\n",
       " {'title': '2024 Democratic Party presidential candidates - Wikipedia',\n",
       "  'href': 'https://en.wikipedia.org/wiki/2024_Democratic_Party_presidential_candidates',\n",
       "  'body': 'The following is a list of candidates associated with the 2024 Democratic Party presidential primaries for the 2024 United States presidential election. As of March 2024, more than 190 candidates had filed with the Federal Election Commission (FEC) to run for the Democratic nomination in 2024.'},\n",
       " {'title': 'Tracking the 2024 presidential candidates - NBC News',\n",
       "  'href': 'https://www.nbcnews.com/politics/2024-elections/presidential-candidates-tracker',\n",
       "  'body': 'On the Democratic side, President Joe Biden cruised past his challengers before he dropped out of the race in July. He quickly endorsed Vice President Kamala Harris to be the next Democratic...'},\n",
       " {'title': 'Who is running for president in 2024? Candidates still in the race',\n",
       "  'href': 'https://www.usatoday.com/story/news/politics/elections/2024/07/22/election-2024-presidential-candidates/74498831007/',\n",
       "  'body': 'A look at the candidates still in the race. Gabe Hauari. USA TODAY. 0:05. 0:37. The 2024 presidential election took a turn on Sunday after President Joe Biden withdrew from the race and endorsed ...'},\n",
       " {'title': \"Answering questions you might have about Biden's decision to ... - CNN\",\n",
       "  'href': 'https://www.cnn.com/2024/07/21/politics/biden-harris-questions-democratic-nominee-who-is-president/index.html',\n",
       "  'body': \"President Joe Biden on Sunday announced he will not seek to be reelected as president in 2024, and he endorsed Vice President Kamala Harris to be the party's new candidate come Election Day in ...\"},\n",
       " {'title': '2024 Democratic Presidential Nomination - 270toWin',\n",
       "  'href': 'https://www.270towin.com/2024-democratic-nomination/',\n",
       "  'body': 'The Democratic Party will nominate a 2024 presidential candidate at its convention in Chicago the week of August 19, 2024.'},\n",
       " {'title': 'National : President: Democratic primary : 2024 Polls',\n",
       "  'href': 'https://projects.fivethirtyeight.com/polls/president-primary-d/2024/national/',\n",
       "  'body': 'President: Democratic primary, 2024. AVG. avg. Indicates a polling average for this poll type. Candidate is an incumbent. Partisan types. Democratic-funded. Republican-funded. Other party-funded....'},\n",
       " {'title': 'Kamala Harris Rapidly Picks Up Democratic Support as 2024 Race Is ...',\n",
       "  'href': 'https://www.nytimes.com/2024/07/21/us/politics/harris-democrats-campaign-nominee-biden.html',\n",
       "  'body': \"July 21, 2024. Powerful leaders of the Democratic establishment quickly embraced Vice President Kamala Harris on Sunday after President Biden's shocking exit from the race, hoping that a ...\"}]"
      ]
     },
     "execution_count": 8,
     "metadata": {},
     "output_type": "execute_result"
    }
   ],
   "source": [
    "results"
   ]
  },
  {
   "cell_type": "code",
   "execution_count": 8,
   "id": "cf4c975a-c697-4aea-9ff7-18583c9f9d1a",
   "metadata": {},
   "outputs": [
    {
     "name": "stdout",
     "output_type": "stream",
     "text": [
      "1951\n"
     ]
    },
    {
     "data": {
      "text/plain": [
       "'{\\n    \"results\": [\\n        {\\n            \"title\": \"Mokume-gane in Modern Swiss Watchmaking\",\\n            \"url\": \"https://www.watchtime.com/blog/mokume-gane-in-modern-swiss-watchmaking/\",\\n            \"description\": \"An exploration of Mokume-gane and its innovative application in the Swiss watch industry, creating visually stunning timepieces.\",\\n            \"snippets\": [\\n                \"Mokume-gane offers a unique, organic look achieved through traditional Japanese metalworking.\",\\n                \"Swiss watchmakers are integrating these techniques to craft distinct, high-end watches.\",\\n                \"Each Mokume-gane watch features a pattern that is unique, enhancing its exclusivity.\"\\n            ]\\n        },\\n        {\\n            \"title\": \"Fusion of Art and Craft: Mokume-gane in Swiss Watches\",\\n            \"url\": \"https://www.hodinkee.com/articles/fusion-of-art-and-craft-mokume-gane-swiss-watches\",\\n            \"description\": \"A detailed look at how the ancient art of Mokume-gane is being incorporated into the designs of Swiss watches.\",\\n            \"snippets\": [\\n                \"Mokume-gane involves layering various metals to create wood-grain patterns.\",\\n                \"This technique enriches the visual appeal of Swiss watches, making them collectible art pieces.\",\\n                \"The labor-intensive process results in timepieces where no two have the same design.\"\\n            ]\\n        },\\n        {\\n            \"title\": \"Innovative Aesthetics: Swiss Watches and Mokume-gane\",\\n            \"url\": \"https://www.audemarspiguet.com/en/watchmaking/innovative-aesthetics-mokume-gane/\",\\n            \"description\": \"Examining the creative use of Mokume-gane in enhancing the aesthetics of Swiss watches.\",\\n            \"snippets\": [\\n                \"The use of Mokume-gane brings a new aesthetic dimension to Swiss watchmaking.\",\\n                \"Known for its decorative wood-grain pattern, Mokume-gane transforms watch dials into works of art.\",\\n                \"Swiss manufacturers employ this technique to create limited edition and bespoke watches.\"\\n            ]\\n        }\\n    ]\\n}'"
      ]
     },
     "execution_count": 8,
     "metadata": {},
     "output_type": "execute_result"
    }
   ],
   "source": [
    "question = '''\n",
    "Use Browser tool to retrieve 3 results related to \"Use of Mokume-gane in Swiss Watches\". The output should be a results array of dict of (title, url, description, snippets(array of string))\n",
    "'''\n",
    "c.ask(question)"
   ]
  },
  {
   "cell_type": "markdown",
   "id": "198a5f35-d0cd-421d-b10a-3ade96be9fdc",
   "metadata": {},
   "source": [
    "## Browser does not work in chat.completions"
   ]
  },
  {
   "cell_type": "code",
   "execution_count": null,
   "id": "7debdc9d-8180-49f5-95f6-48896a5e989e",
   "metadata": {},
   "outputs": [],
   "source": []
  }
 ],
 "metadata": {
  "kernelspec": {
   "display_name": "Python 3 (ipykernel)",
   "language": "python",
   "name": "python3"
  },
  "language_info": {
   "codemirror_mode": {
    "name": "ipython",
    "version": 3
   },
   "file_extension": ".py",
   "mimetype": "text/x-python",
   "name": "python",
   "nbconvert_exporter": "python",
   "pygments_lexer": "ipython3",
   "version": "3.11.4"
  }
 },
 "nbformat": 4,
 "nbformat_minor": 5
}
